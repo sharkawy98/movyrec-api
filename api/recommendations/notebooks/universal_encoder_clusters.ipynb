{
  "nbformat": 4,
  "nbformat_minor": 0,
  "metadata": {
    "colab": {
      "name": "universal encoder clusters.ipynb",
      "provenance": [],
      "collapsed_sections": []
    },
    "kernelspec": {
      "name": "python3",
      "display_name": "Python 3"
    },
    "language_info": {
      "name": "python"
    }
  },
  "cells": [
    {
      "cell_type": "code",
      "metadata": {
        "id": "h4JSU4mPTCA5"
      },
      "source": [
        "import tensorflow_hub as hub\n",
        "import pandas as pd\n",
        "import numpy as np\n",
        "from sklearn.cluster import KMeans"
      ],
      "execution_count": null,
      "outputs": []
    },
    {
      "cell_type": "code",
      "metadata": {
        "id": "gQ-4Jru6YEuc"
      },
      "source": [
        "# Load pre-trained universal sentence encoder model\n",
        "embed = hub.load(\"https://tfhub.dev/google/universal-sentence-encoder/4\")"
      ],
      "execution_count": null,
      "outputs": []
    },
    {
      "cell_type": "code",
      "metadata": {
        "id": "V_5jLxI8YObI"
      },
      "source": [
        "movies = pd.read_csv('/content/drive/MyDrive/movie_dataset/movies_metadata.csv', low_memory=False)"
      ],
      "execution_count": null,
      "outputs": []
    },
    {
      "cell_type": "code",
      "metadata": {
        "id": "bYSjVedVaSQA"
      },
      "source": [
        "movies = movies.drop([19730, 29503, 35587])  # remove damaged data\n",
        "movies['id'] = movies['id'].astype('int64')"
      ],
      "execution_count": null,
      "outputs": []
    },
    {
      "cell_type": "code",
      "metadata": {
        "colab": {
          "base_uri": "https://localhost:8080/"
        },
        "id": "h6M9_ta2kyOX",
        "outputId": "fe027037-2820-4357-ae44-3839db6639db"
      },
      "source": [
        "movies.isna().sum()"
      ],
      "execution_count": null,
      "outputs": [
        {
          "output_type": "execute_result",
          "data": {
            "text/plain": [
              "adult                        0\n",
              "belongs_to_collection    40972\n",
              "budget                       0\n",
              "genres                       0\n",
              "homepage                 37684\n",
              "id                           0\n",
              "imdb_id                     17\n",
              "original_language           11\n",
              "original_title               0\n",
              "overview                   954\n",
              "popularity                   3\n",
              "poster_path                386\n",
              "production_companies         3\n",
              "production_countries         3\n",
              "release_date                87\n",
              "revenue                      3\n",
              "runtime                    260\n",
              "spoken_languages             3\n",
              "status                      84\n",
              "tagline                  25051\n",
              "title                        3\n",
              "video                        3\n",
              "vote_average                 3\n",
              "vote_count                   3\n",
              "dtype: int64"
            ]
          },
          "metadata": {
            "tags": []
          },
          "execution_count": 9
        }
      ]
    },
    {
      "cell_type": "code",
      "metadata": {
        "id": "bu2USTbTk5jp"
      },
      "source": [
        "movies = movies[movies.overview.notna()]"
      ],
      "execution_count": null,
      "outputs": []
    },
    {
      "cell_type": "code",
      "metadata": {
        "id": "8wsrKF5_oaK-"
      },
      "source": [
        "movies = movies.drop_duplicates(subset='overview')"
      ],
      "execution_count": null,
      "outputs": []
    },
    {
      "cell_type": "code",
      "metadata": {
        "id": "X7psogftCM5C"
      },
      "source": [
        "movies = movies[movies['overview'].str.len() > 50]"
      ],
      "execution_count": null,
      "outputs": []
    },
    {
      "cell_type": "code",
      "metadata": {
        "id": "nG0MW8J9lqZC"
      },
      "source": [
        "movies = movies[movies['adult'] == 'False']"
      ],
      "execution_count": null,
      "outputs": []
    },
    {
      "cell_type": "code",
      "metadata": {
        "id": "L88bMEvYq6zC"
      },
      "source": [
        "movies = movies.reset_index(drop=True)"
      ],
      "execution_count": null,
      "outputs": []
    },
    {
      "cell_type": "code",
      "metadata": {
        "colab": {
          "base_uri": "https://localhost:8080/"
        },
        "id": "X7W_ku1tcxBp",
        "outputId": "810ae26f-ab92-4585-8dd3-76ebacdba0d8"
      },
      "source": [
        "embeddings = embed(movies['overview'])\n",
        "embeddings"
      ],
      "execution_count": null,
      "outputs": [
        {
          "output_type": "execute_result",
          "data": {
            "text/plain": [
              "<tf.Tensor: shape=(43911, 512), dtype=float32, numpy=\n",
              "array([[ 0.0623784 , -0.00021258, -0.03214182, ..., -0.02816204,\n",
              "         0.06704462,  0.03110415],\n",
              "       [ 0.01738841, -0.040174  ,  0.00191935, ..., -0.00705751,\n",
              "         0.08162364,  0.03460284],\n",
              "       [ 0.00079044,  0.03408437, -0.03159757, ..., -0.02167954,\n",
              "         0.01332099,  0.0119028 ],\n",
              "       ...,\n",
              "       [ 0.00288407,  0.02441899,  0.00214455, ..., -0.050444  ,\n",
              "         0.0576336 , -0.02168424],\n",
              "       [-0.03068469,  0.03163631, -0.0301782 , ..., -0.04808713,\n",
              "         0.04038424,  0.03479053],\n",
              "       [ 0.06090392,  0.00747778,  0.0035212 , ..., -0.04336387,\n",
              "        -0.00491572,  0.02921174]], dtype=float32)>"
            ]
          },
          "metadata": {
            "tags": []
          },
          "execution_count": 15
        }
      ]
    },
    {
      "cell_type": "code",
      "metadata": {
        "id": "N8a3d6FMguXz",
        "colab": {
          "base_uri": "https://localhost:8080/"
        },
        "outputId": "e7d93132-7729-45d7-e5b4-4f188eb674be"
      },
      "source": [
        "k = 14\n",
        "model = KMeans(n_clusters=k, init='k-means++', max_iter=10000, n_init=20)\n",
        "model.fit(embeddings)"
      ],
      "execution_count": null,
      "outputs": [
        {
          "output_type": "execute_result",
          "data": {
            "text/plain": [
              "KMeans(algorithm='auto', copy_x=True, init='k-means++', max_iter=10000,\n",
              "       n_clusters=14, n_init=20, n_jobs=None, precompute_distances='auto',\n",
              "       random_state=None, tol=0.0001, verbose=0)"
            ]
          },
          "metadata": {
            "tags": []
          },
          "execution_count": 37
        }
      ]
    },
    {
      "cell_type": "code",
      "metadata": {
        "id": "VZR8wBV-f49o"
      },
      "source": [
        "# assign cluster number to movies\n",
        "movies['cluster'] = model.labels_"
      ],
      "execution_count": null,
      "outputs": []
    },
    {
      "cell_type": "markdown",
      "metadata": {
        "id": "eq5cTkkOqt5P"
      },
      "source": [
        "# IMDB weighted average rating"
      ]
    },
    {
      "cell_type": "code",
      "metadata": {
        "colab": {
          "base_uri": "https://localhost:8080/"
        },
        "id": "_8uKvpBdqylT",
        "outputId": "37c16738-bb6e-4e16-de97-ef4038fc8c37"
      },
      "source": [
        "# Calculate mean of vote average column\n",
        "C = movies['vote_average'].mean()\n",
        "print(C)\n",
        "\n",
        "# Calculate the minimum number of votes required to be in the chart, m\n",
        "m = movies['vote_count'].quantile(0.90)\n",
        "print(m)\n",
        "\n",
        "# Function that computes the weighted rating of each movie\n",
        "def weighted_rating(x, m=m, C=C):\n",
        "    v = x['vote_count']\n",
        "    R = x['vote_average']\n",
        "    # Calculation based on the IMDB formula\n",
        "    return (v/(v+m) * R) + (m/(m+v) * C)"
      ],
      "execution_count": null,
      "outputs": [
        {
          "output_type": "stream",
          "text": [
            "5.65314400236834\n",
            "168.0\n"
          ],
          "name": "stdout"
        }
      ]
    },
    {
      "cell_type": "code",
      "metadata": {
        "id": "S2ArXrR5rFq2"
      },
      "source": [
        "movies['score'] = movies.apply(weighted_rating, axis=1)"
      ],
      "execution_count": null,
      "outputs": []
    },
    {
      "cell_type": "markdown",
      "metadata": {
        "id": "Bdp6zqYynXix"
      },
      "source": [
        "# Sort movies and export final dataset"
      ]
    },
    {
      "cell_type": "code",
      "metadata": {
        "id": "aBJ0nQSnOT-3"
      },
      "source": [
        "# sort movies by cluster number\n",
        "movies = movies.sort_values(by=['cluster','score'], ascending=[True, False])"
      ],
      "execution_count": null,
      "outputs": []
    },
    {
      "cell_type": "code",
      "metadata": {
        "colab": {
          "base_uri": "https://localhost:8080/",
          "height": 271
        },
        "id": "l0MQFOHepkBe",
        "outputId": "24f0534c-24e5-48af-e20a-061213eadb88"
      },
      "source": [
        "movies[movies.title == 'The Dark Knight']"
      ],
      "execution_count": null,
      "outputs": [
        {
          "output_type": "execute_result",
          "data": {
            "text/html": [
              "<div>\n",
              "<style scoped>\n",
              "    .dataframe tbody tr th:only-of-type {\n",
              "        vertical-align: middle;\n",
              "    }\n",
              "\n",
              "    .dataframe tbody tr th {\n",
              "        vertical-align: top;\n",
              "    }\n",
              "\n",
              "    .dataframe thead th {\n",
              "        text-align: right;\n",
              "    }\n",
              "</style>\n",
              "<table border=\"1\" class=\"dataframe\">\n",
              "  <thead>\n",
              "    <tr style=\"text-align: right;\">\n",
              "      <th></th>\n",
              "      <th>adult</th>\n",
              "      <th>belongs_to_collection</th>\n",
              "      <th>budget</th>\n",
              "      <th>genres</th>\n",
              "      <th>homepage</th>\n",
              "      <th>id</th>\n",
              "      <th>imdb_id</th>\n",
              "      <th>original_language</th>\n",
              "      <th>original_title</th>\n",
              "      <th>overview</th>\n",
              "      <th>popularity</th>\n",
              "      <th>poster_path</th>\n",
              "      <th>production_companies</th>\n",
              "      <th>production_countries</th>\n",
              "      <th>release_date</th>\n",
              "      <th>revenue</th>\n",
              "      <th>runtime</th>\n",
              "      <th>spoken_languages</th>\n",
              "      <th>status</th>\n",
              "      <th>tagline</th>\n",
              "      <th>title</th>\n",
              "      <th>video</th>\n",
              "      <th>vote_average</th>\n",
              "      <th>vote_count</th>\n",
              "      <th>cluster</th>\n",
              "      <th>score</th>\n",
              "    </tr>\n",
              "  </thead>\n",
              "  <tbody>\n",
              "    <tr>\n",
              "      <th>12388</th>\n",
              "      <td>False</td>\n",
              "      <td>{'id': 263, 'name': 'The Dark Knight Collectio...</td>\n",
              "      <td>185000000</td>\n",
              "      <td>[{'id': 18, 'name': 'Drama'}, {'id': 28, 'name...</td>\n",
              "      <td>http://thedarkknight.warnerbros.com/dvdsite/</td>\n",
              "      <td>155</td>\n",
              "      <td>tt0468569</td>\n",
              "      <td>en</td>\n",
              "      <td>The Dark Knight</td>\n",
              "      <td>Batman raises the stakes in his war on crime. ...</td>\n",
              "      <td>123.167259</td>\n",
              "      <td>/1hRoyzDtpgMU7Dz4JF22RANzQO7.jpg</td>\n",
              "      <td>[{'name': 'DC Comics', 'id': 429}, {'name': 'L...</td>\n",
              "      <td>[{'iso_3166_1': 'GB', 'name': 'United Kingdom'...</td>\n",
              "      <td>2008-07-16</td>\n",
              "      <td>1.004558e+09</td>\n",
              "      <td>152.0</td>\n",
              "      <td>[{'iso_639_1': 'en', 'name': 'English'}, {'iso...</td>\n",
              "      <td>Released</td>\n",
              "      <td>Why So Serious?</td>\n",
              "      <td>The Dark Knight</td>\n",
              "      <td>False</td>\n",
              "      <td>8.3</td>\n",
              "      <td>12269.0</td>\n",
              "      <td>2</td>\n",
              "      <td>8.264246</td>\n",
              "    </tr>\n",
              "    <tr>\n",
              "      <th>28152</th>\n",
              "      <td>False</td>\n",
              "      <td>NaN</td>\n",
              "      <td>0</td>\n",
              "      <td>[{'id': 28, 'name': 'Action'}, {'id': 80, 'nam...</td>\n",
              "      <td>NaN</td>\n",
              "      <td>72003</td>\n",
              "      <td>tt2258647</td>\n",
              "      <td>en</td>\n",
              "      <td>The Dark Knight</td>\n",
              "      <td>In a post-apocalyptic world ravaged by feuding...</td>\n",
              "      <td>0.077992</td>\n",
              "      <td>/kyjTDE5vldkUpJGErAvqYY6J92M.jpg</td>\n",
              "      <td>[]</td>\n",
              "      <td>[]</td>\n",
              "      <td>2011-07-11</td>\n",
              "      <td>0.000000e+00</td>\n",
              "      <td>86.0</td>\n",
              "      <td>[{'iso_639_1': 'en', 'name': 'English'}]</td>\n",
              "      <td>Released</td>\n",
              "      <td>NaN</td>\n",
              "      <td>The Dark Knight</td>\n",
              "      <td>False</td>\n",
              "      <td>6.3</td>\n",
              "      <td>2.0</td>\n",
              "      <td>10</td>\n",
              "      <td>5.660754</td>\n",
              "    </tr>\n",
              "  </tbody>\n",
              "</table>\n",
              "</div>"
            ],
            "text/plain": [
              "       adult  ...     score\n",
              "12388  False  ...  8.264246\n",
              "28152  False  ...  5.660754\n",
              "\n",
              "[2 rows x 26 columns]"
            ]
          },
          "metadata": {
            "tags": []
          },
          "execution_count": 80
        }
      ]
    },
    {
      "cell_type": "code",
      "metadata": {
        "id": "ag2p5-cwOiKs"
      },
      "source": [
        "movies.to_csv('movies.csv')"
      ],
      "execution_count": null,
      "outputs": []
    },
    {
      "cell_type": "markdown",
      "metadata": {
        "id": "U_d68e-Pixwb"
      },
      "source": [
        "# process and filter data"
      ]
    },
    {
      "cell_type": "code",
      "metadata": {
        "id": "Vld4WCxZJIhN"
      },
      "source": [
        "from ast import literal_eval\n",
        "from numpy import NaN"
      ],
      "execution_count": null,
      "outputs": []
    },
    {
      "cell_type": "code",
      "metadata": {
        "id": "OVmTxNg7JQ_H"
      },
      "source": [
        "movies = pd.read_csv('/content/drive/MyDrive/movies.csv', low_memory=False)\n",
        "keywords = pd.read_csv('/content/drive/MyDrive/movie_dataset/keywords.csv')"
      ],
      "execution_count": null,
      "outputs": []
    },
    {
      "cell_type": "code",
      "metadata": {
        "id": "iFPs9MUEaFvO"
      },
      "source": [
        "movies['genres'] = movies['genres'].apply(literal_eval)\n",
        "keywords['keywords'] = keywords['keywords'].apply(literal_eval)"
      ],
      "execution_count": null,
      "outputs": []
    },
    {
      "cell_type": "code",
      "metadata": {
        "id": "OBGx7s7kKZHW"
      },
      "source": [
        "def dict_to_list(dict_):\n",
        "  return [x['name'].lower() for x in dict_]"
      ],
      "execution_count": null,
      "outputs": []
    },
    {
      "cell_type": "code",
      "metadata": {
        "id": "YoDNDHs5KSZv"
      },
      "source": [
        "movies['genres'] = movies['genres'].apply(dict_to_list)\n",
        "keywords['keywords'] = keywords['keywords'].apply(dict_to_list)"
      ],
      "execution_count": null,
      "outputs": []
    },
    {
      "cell_type": "code",
      "metadata": {
        "colab": {
          "base_uri": "https://localhost:8080/"
        },
        "id": "ggbJUXHvNIzC",
        "outputId": "5537c325-76f7-4c1e-f4a3-b49552b8a640"
      },
      "source": [
        "movies.shape"
      ],
      "execution_count": null,
      "outputs": [
        {
          "output_type": "execute_result",
          "data": {
            "text/plain": [
              "(43911, 27)"
            ]
          },
          "metadata": {
            "tags": []
          },
          "execution_count": 61
        }
      ]
    },
    {
      "cell_type": "code",
      "metadata": {
        "id": "nOisZcHUKGvj"
      },
      "source": [
        "# join movies & keywords\n",
        "merged = movies.join(keywords, on='id', rsuffix='_k')"
      ],
      "execution_count": null,
      "outputs": []
    },
    {
      "cell_type": "code",
      "metadata": {
        "colab": {
          "base_uri": "https://localhost:8080/",
          "height": 730
        },
        "id": "FNHlhAerQwTn",
        "outputId": "4755c6f9-4b15-47ff-f35d-422e7beddf2f"
      },
      "source": [
        "merged.head()"
      ],
      "execution_count": null,
      "outputs": [
        {
          "output_type": "execute_result",
          "data": {
            "text/html": [
              "<div>\n",
              "<style scoped>\n",
              "    .dataframe tbody tr th:only-of-type {\n",
              "        vertical-align: middle;\n",
              "    }\n",
              "\n",
              "    .dataframe tbody tr th {\n",
              "        vertical-align: top;\n",
              "    }\n",
              "\n",
              "    .dataframe thead th {\n",
              "        text-align: right;\n",
              "    }\n",
              "</style>\n",
              "<table border=\"1\" class=\"dataframe\">\n",
              "  <thead>\n",
              "    <tr style=\"text-align: right;\">\n",
              "      <th></th>\n",
              "      <th>Unnamed: 0</th>\n",
              "      <th>adult</th>\n",
              "      <th>belongs_to_collection</th>\n",
              "      <th>budget</th>\n",
              "      <th>genres</th>\n",
              "      <th>homepage</th>\n",
              "      <th>id</th>\n",
              "      <th>imdb_id</th>\n",
              "      <th>original_language</th>\n",
              "      <th>original_title</th>\n",
              "      <th>overview</th>\n",
              "      <th>popularity</th>\n",
              "      <th>poster_path</th>\n",
              "      <th>production_companies</th>\n",
              "      <th>production_countries</th>\n",
              "      <th>release_date</th>\n",
              "      <th>revenue</th>\n",
              "      <th>runtime</th>\n",
              "      <th>spoken_languages</th>\n",
              "      <th>status</th>\n",
              "      <th>tagline</th>\n",
              "      <th>title</th>\n",
              "      <th>video</th>\n",
              "      <th>vote_average</th>\n",
              "      <th>vote_count</th>\n",
              "      <th>cluster</th>\n",
              "      <th>score</th>\n",
              "      <th>id_k</th>\n",
              "      <th>keywords</th>\n",
              "    </tr>\n",
              "  </thead>\n",
              "  <tbody>\n",
              "    <tr>\n",
              "      <th>0</th>\n",
              "      <td>1182</td>\n",
              "      <td>False</td>\n",
              "      <td>NaN</td>\n",
              "      <td>16400000</td>\n",
              "      <td>[drama]</td>\n",
              "      <td>NaN</td>\n",
              "      <td>207</td>\n",
              "      <td>tt0097165</td>\n",
              "      <td>en</td>\n",
              "      <td>Dead Poets Society</td>\n",
              "      <td>At an elite, old-fashioned boarding school in ...</td>\n",
              "      <td>19.905716</td>\n",
              "      <td>/3Ri2GReavqSHqWemlP6HYn8i2P9.jpg</td>\n",
              "      <td>[{'name': 'Touchstone Pictures', 'id': 9195}, ...</td>\n",
              "      <td>[{'iso_3166_1': 'US', 'name': 'United States o...</td>\n",
              "      <td>1989-06-02</td>\n",
              "      <td>235860116.0</td>\n",
              "      <td>129.0</td>\n",
              "      <td>[{'iso_639_1': 'en', 'name': 'English'}]</td>\n",
              "      <td>Released</td>\n",
              "      <td>He was their inspiration. He made their lives ...</td>\n",
              "      <td>Dead Poets Society</td>\n",
              "      <td>False</td>\n",
              "      <td>8.1</td>\n",
              "      <td>2786.0</td>\n",
              "      <td>0</td>\n",
              "      <td>7.960842</td>\n",
              "      <td>65796.0</td>\n",
              "      <td>[opium, loss of eyesight, biography, sioux, wi...</td>\n",
              "    </tr>\n",
              "    <tr>\n",
              "      <th>1</th>\n",
              "      <td>22472</td>\n",
              "      <td>False</td>\n",
              "      <td>NaN</td>\n",
              "      <td>30000000</td>\n",
              "      <td>[comedy, drama]</td>\n",
              "      <td>NaN</td>\n",
              "      <td>120467</td>\n",
              "      <td>tt2278388</td>\n",
              "      <td>en</td>\n",
              "      <td>The Grand Budapest Hotel</td>\n",
              "      <td>The Grand Budapest Hotel tells of a legendary ...</td>\n",
              "      <td>14.442048</td>\n",
              "      <td>/nX5XotM9yprCKarRH4fzOq1VM1J.jpg</td>\n",
              "      <td>[{'name': 'Fox Searchlight Pictures', 'id': 43...</td>\n",
              "      <td>[{'iso_3166_1': 'GB', 'name': 'United Kingdom'...</td>\n",
              "      <td>2014-02-26</td>\n",
              "      <td>174600318.0</td>\n",
              "      <td>99.0</td>\n",
              "      <td>[{'iso_639_1': 'en', 'name': 'English'}, {'iso...</td>\n",
              "      <td>Released</td>\n",
              "      <td>A perfect holiday without leaving home.</td>\n",
              "      <td>The Grand Budapest Hotel</td>\n",
              "      <td>False</td>\n",
              "      <td>8.0</td>\n",
              "      <td>4644.0</td>\n",
              "      <td>0</td>\n",
              "      <td>7.918065</td>\n",
              "      <td>NaN</td>\n",
              "      <td>NaN</td>\n",
              "    </tr>\n",
              "    <tr>\n",
              "      <th>2</th>\n",
              "      <td>11233</td>\n",
              "      <td>False</td>\n",
              "      <td>NaN</td>\n",
              "      <td>90000000</td>\n",
              "      <td>[drama, thriller, crime]</td>\n",
              "      <td>http://thedeparted.warnerbros.com/</td>\n",
              "      <td>1422</td>\n",
              "      <td>tt0407887</td>\n",
              "      <td>en</td>\n",
              "      <td>The Departed</td>\n",
              "      <td>To take down South Boston's Irish Mafia, the p...</td>\n",
              "      <td>18.515448</td>\n",
              "      <td>/tGLO9zw5ZtCeyyEWgbYGgsFxC6i.jpg</td>\n",
              "      <td>[{'name': 'Vertigo Entertainment', 'id': 829},...</td>\n",
              "      <td>[{'iso_3166_1': 'HK', 'name': 'Hong Kong'}, {'...</td>\n",
              "      <td>2006-10-05</td>\n",
              "      <td>289847354.0</td>\n",
              "      <td>151.0</td>\n",
              "      <td>[{'iso_639_1': 'en', 'name': 'English'}, {'iso...</td>\n",
              "      <td>Released</td>\n",
              "      <td>Lies. Betrayal. Sacrifice. How far will you ta...</td>\n",
              "      <td>The Departed</td>\n",
              "      <td>False</td>\n",
              "      <td>7.9</td>\n",
              "      <td>4455.0</td>\n",
              "      <td>0</td>\n",
              "      <td>7.818349</td>\n",
              "      <td>11844.0</td>\n",
              "      <td>[male friendship, van, snack bar, soccer, unem...</td>\n",
              "    </tr>\n",
              "    <tr>\n",
              "      <th>3</th>\n",
              "      <td>2708</td>\n",
              "      <td>False</td>\n",
              "      <td>NaN</td>\n",
              "      <td>15000000</td>\n",
              "      <td>[drama]</td>\n",
              "      <td>http://www.dreamworks.com/ab/</td>\n",
              "      <td>14</td>\n",
              "      <td>tt0169547</td>\n",
              "      <td>en</td>\n",
              "      <td>American Beauty</td>\n",
              "      <td>Lester Burnham, a depressed suburban father in...</td>\n",
              "      <td>20.726578</td>\n",
              "      <td>/or1MP8BZIAjqWYxPdPX724ydKar.jpg</td>\n",
              "      <td>[{'name': 'DreamWorks SKG', 'id': 27}, {'name'...</td>\n",
              "      <td>[{'iso_3166_1': 'US', 'name': 'United States o...</td>\n",
              "      <td>1999-09-15</td>\n",
              "      <td>356296601.0</td>\n",
              "      <td>122.0</td>\n",
              "      <td>[{'iso_639_1': 'en', 'name': 'English'}]</td>\n",
              "      <td>Released</td>\n",
              "      <td>Look closer.</td>\n",
              "      <td>American Beauty</td>\n",
              "      <td>False</td>\n",
              "      <td>7.9</td>\n",
              "      <td>3438.0</td>\n",
              "      <td>0</td>\n",
              "      <td>7.795321</td>\n",
              "      <td>1408.0</td>\n",
              "      <td>[exotic island, treasure, map, ship, scalp, pi...</td>\n",
              "    </tr>\n",
              "    <tr>\n",
              "      <th>4</th>\n",
              "      <td>722</td>\n",
              "      <td>False</td>\n",
              "      <td>NaN</td>\n",
              "      <td>1800000</td>\n",
              "      <td>[drama, comedy, war]</td>\n",
              "      <td>NaN</td>\n",
              "      <td>935</td>\n",
              "      <td>tt0057012</td>\n",
              "      <td>en</td>\n",
              "      <td>Dr. Strangelove or: How I Learned to Stop Worr...</td>\n",
              "      <td>Insane General Jack D. Ripper initiates a nucl...</td>\n",
              "      <td>9.803980</td>\n",
              "      <td>/tviJ68Wj4glQk3CPMvdvExYHxX.jpg</td>\n",
              "      <td>[{'name': 'Hawk Films', 'id': 88}, {'name': 'C...</td>\n",
              "      <td>[{'iso_3166_1': 'GB', 'name': 'United Kingdom'...</td>\n",
              "      <td>1964-01-29</td>\n",
              "      <td>9440272.0</td>\n",
              "      <td>95.0</td>\n",
              "      <td>[{'iso_639_1': 'en', 'name': 'English'}]</td>\n",
              "      <td>Released</td>\n",
              "      <td>The hot-line suspense comedy</td>\n",
              "      <td>Dr. Strangelove or: How I Learned to Stop Worr...</td>\n",
              "      <td>False</td>\n",
              "      <td>8.0</td>\n",
              "      <td>1472.0</td>\n",
              "      <td>0</td>\n",
              "      <td>7.759590</td>\n",
              "      <td>26378.0</td>\n",
              "      <td>[detective, arizona, ranch, boxer, boxing matc...</td>\n",
              "    </tr>\n",
              "  </tbody>\n",
              "</table>\n",
              "</div>"
            ],
            "text/plain": [
              "   Unnamed: 0  ...                                           keywords\n",
              "0        1182  ...  [opium, loss of eyesight, biography, sioux, wi...\n",
              "1       22472  ...                                                NaN\n",
              "2       11233  ...  [male friendship, van, snack bar, soccer, unem...\n",
              "3        2708  ...  [exotic island, treasure, map, ship, scalp, pi...\n",
              "4         722  ...  [detective, arizona, ranch, boxer, boxing matc...\n",
              "\n",
              "[5 rows x 29 columns]"
            ]
          },
          "metadata": {
            "tags": []
          },
          "execution_count": 86
        }
      ]
    },
    {
      "cell_type": "code",
      "metadata": {
        "colab": {
          "base_uri": "https://localhost:8080/"
        },
        "id": "UafLlakNOBrR",
        "outputId": "3d5adcc6-02cc-41d3-96a0-9e9e5d890b54"
      },
      "source": [
        "merged.columns"
      ],
      "execution_count": null,
      "outputs": [
        {
          "output_type": "execute_result",
          "data": {
            "text/plain": [
              "Index(['Unnamed: 0', 'adult', 'belongs_to_collection', 'budget', 'genres',\n",
              "       'homepage', 'id', 'imdb_id', 'original_language', 'original_title',\n",
              "       'overview', 'popularity', 'poster_path', 'production_companies',\n",
              "       'production_countries', 'release_date', 'revenue', 'runtime',\n",
              "       'spoken_languages', 'status', 'tagline', 'title', 'video',\n",
              "       'vote_average', 'vote_count', 'cluster', 'score', 'id_k', 'keywords'],\n",
              "      dtype='object')"
            ]
          },
          "metadata": {
            "tags": []
          },
          "execution_count": 64
        }
      ]
    },
    {
      "cell_type": "code",
      "metadata": {
        "id": "zXxbp9S3P5wR"
      },
      "source": [
        "# change nan to empty list []\n",
        "merged['keywords'] = merged['keywords'].apply(lambda k: [] if k is NaN else k)"
      ],
      "execution_count": null,
      "outputs": []
    },
    {
      "cell_type": "code",
      "metadata": {
        "id": "T07x21tsTPLP"
      },
      "source": [
        "merged = merged[['id', 'imdb_id', 'title', 'release_date', 'score', 'overview',  'genres', 'keywords', 'cluster']]"
      ],
      "execution_count": null,
      "outputs": []
    },
    {
      "cell_type": "code",
      "metadata": {
        "id": "WfSNlTIWV3g8"
      },
      "source": [
        "merged = merged.rename(columns={'id': 'tmdb_id'})"
      ],
      "execution_count": null,
      "outputs": []
    },
    {
      "cell_type": "code",
      "metadata": {
        "id": "jpq9X7UaWV0J"
      },
      "source": [
        "merged['release_date'] = pd.to_datetime(merged['release_date'])"
      ],
      "execution_count": null,
      "outputs": []
    },
    {
      "cell_type": "markdown",
      "metadata": {
        "id": "XHW_75SxWr7V"
      },
      "source": [
        "### change genres & keywords lists to string"
      ]
    },
    {
      "cell_type": "code",
      "metadata": {
        "colab": {
          "base_uri": "https://localhost:8080/",
          "height": 712
        },
        "id": "dj_u4ls7WrKw",
        "outputId": "d0dc365a-8808-4f3f-ddeb-402e31924fcb"
      },
      "source": [
        "merged['genres'] = merged['genres'].apply(lambda g: '|'.join(g))\n",
        "merged['keywords'] = merged['keywords'].apply(lambda k: '|'.join(k))\n",
        "merged.head()"
      ],
      "execution_count": null,
      "outputs": [
        {
          "output_type": "execute_result",
          "data": {
            "text/html": [
              "<div>\n",
              "<style scoped>\n",
              "    .dataframe tbody tr th:only-of-type {\n",
              "        vertical-align: middle;\n",
              "    }\n",
              "\n",
              "    .dataframe tbody tr th {\n",
              "        vertical-align: top;\n",
              "    }\n",
              "\n",
              "    .dataframe thead th {\n",
              "        text-align: right;\n",
              "    }\n",
              "</style>\n",
              "<table border=\"1\" class=\"dataframe\">\n",
              "  <thead>\n",
              "    <tr style=\"text-align: right;\">\n",
              "      <th></th>\n",
              "      <th>tmdb_id</th>\n",
              "      <th>imdb_id</th>\n",
              "      <th>title</th>\n",
              "      <th>release_date</th>\n",
              "      <th>score</th>\n",
              "      <th>overview</th>\n",
              "      <th>genres</th>\n",
              "      <th>keywords</th>\n",
              "      <th>cluster</th>\n",
              "    </tr>\n",
              "  </thead>\n",
              "  <tbody>\n",
              "    <tr>\n",
              "      <th>0</th>\n",
              "      <td>207</td>\n",
              "      <td>tt0097165</td>\n",
              "      <td>Dead Poets Society</td>\n",
              "      <td>1989-06-02</td>\n",
              "      <td>7.960842</td>\n",
              "      <td>At an elite, old-fashioned boarding school in ...</td>\n",
              "      <td>drama</td>\n",
              "      <td>opium|loss of eyesight|biography|sioux|wild bi...</td>\n",
              "      <td>0</td>\n",
              "    </tr>\n",
              "    <tr>\n",
              "      <th>1</th>\n",
              "      <td>120467</td>\n",
              "      <td>tt2278388</td>\n",
              "      <td>The Grand Budapest Hotel</td>\n",
              "      <td>2014-02-26</td>\n",
              "      <td>7.918065</td>\n",
              "      <td>The Grand Budapest Hotel tells of a legendary ...</td>\n",
              "      <td>comedy|drama</td>\n",
              "      <td></td>\n",
              "      <td>0</td>\n",
              "    </tr>\n",
              "    <tr>\n",
              "      <th>2</th>\n",
              "      <td>1422</td>\n",
              "      <td>tt0407887</td>\n",
              "      <td>The Departed</td>\n",
              "      <td>2006-10-05</td>\n",
              "      <td>7.818349</td>\n",
              "      <td>To take down South Boston's Irish Mafia, the p...</td>\n",
              "      <td>drama|thriller|crime</td>\n",
              "      <td>male friendship|van|snack bar|soccer|unemployment</td>\n",
              "      <td>0</td>\n",
              "    </tr>\n",
              "    <tr>\n",
              "      <th>3</th>\n",
              "      <td>14</td>\n",
              "      <td>tt0169547</td>\n",
              "      <td>American Beauty</td>\n",
              "      <td>1999-09-15</td>\n",
              "      <td>7.795321</td>\n",
              "      <td>Lester Burnham, a depressed suburban father in...</td>\n",
              "      <td>drama</td>\n",
              "      <td>exotic island|treasure|map|ship|scalp|pirate</td>\n",
              "      <td>0</td>\n",
              "    </tr>\n",
              "    <tr>\n",
              "      <th>4</th>\n",
              "      <td>935</td>\n",
              "      <td>tt0057012</td>\n",
              "      <td>Dr. Strangelove or: How I Learned to Stop Worr...</td>\n",
              "      <td>1964-01-29</td>\n",
              "      <td>7.759590</td>\n",
              "      <td>Insane General Jack D. Ripper initiates a nucl...</td>\n",
              "      <td>drama|comedy|war</td>\n",
              "      <td>detective|arizona|ranch|boxer|boxing match|spo...</td>\n",
              "      <td>0</td>\n",
              "    </tr>\n",
              "  </tbody>\n",
              "</table>\n",
              "</div>"
            ],
            "text/plain": [
              "   tmdb_id  ... cluster\n",
              "0      207  ...       0\n",
              "1   120467  ...       0\n",
              "2     1422  ...       0\n",
              "3       14  ...       0\n",
              "4      935  ...       0\n",
              "\n",
              "[5 rows x 9 columns]"
            ]
          },
          "metadata": {
            "tags": []
          },
          "execution_count": 131
        }
      ]
    },
    {
      "cell_type": "code",
      "metadata": {
        "colab": {
          "base_uri": "https://localhost:8080/"
        },
        "id": "nYq0QpbJXmgb",
        "outputId": "1be2de87-065f-48fe-be67-23575829517f"
      },
      "source": [
        "merged.isna().sum()"
      ],
      "execution_count": null,
      "outputs": [
        {
          "output_type": "execute_result",
          "data": {
            "text/plain": [
              "tmdb_id          0\n",
              "imdb_id         15\n",
              "title            2\n",
              "release_date    67\n",
              "score            2\n",
              "overview         0\n",
              "genres           0\n",
              "keywords         0\n",
              "cluster          0\n",
              "dtype: int64"
            ]
          },
          "metadata": {
            "tags": []
          },
          "execution_count": 133
        }
      ]
    },
    {
      "cell_type": "code",
      "metadata": {
        "colab": {
          "base_uri": "https://localhost:8080/",
          "height": 234
        },
        "id": "4zoNGHIQXwTC",
        "outputId": "1943a2e2-13bc-4d40-f3b0-bf7ab2a20446"
      },
      "source": [
        "merged[merged['title'].isna()]"
      ],
      "execution_count": null,
      "outputs": [
        {
          "output_type": "execute_result",
          "data": {
            "text/html": [
              "<div>\n",
              "<style scoped>\n",
              "    .dataframe tbody tr th:only-of-type {\n",
              "        vertical-align: middle;\n",
              "    }\n",
              "\n",
              "    .dataframe tbody tr th {\n",
              "        vertical-align: top;\n",
              "    }\n",
              "\n",
              "    .dataframe thead th {\n",
              "        text-align: right;\n",
              "    }\n",
              "</style>\n",
              "<table border=\"1\" class=\"dataframe\">\n",
              "  <thead>\n",
              "    <tr style=\"text-align: right;\">\n",
              "      <th></th>\n",
              "      <th>tmdb_id</th>\n",
              "      <th>imdb_id</th>\n",
              "      <th>title</th>\n",
              "      <th>release_date</th>\n",
              "      <th>score</th>\n",
              "      <th>overview</th>\n",
              "      <th>genres</th>\n",
              "      <th>keywords</th>\n",
              "      <th>cluster</th>\n",
              "    </tr>\n",
              "  </thead>\n",
              "  <tbody>\n",
              "    <tr>\n",
              "      <th>22048</th>\n",
              "      <td>82663</td>\n",
              "      <td>tt0113002</td>\n",
              "      <td>NaN</td>\n",
              "      <td>NaT</td>\n",
              "      <td>NaN</td>\n",
              "      <td>British soldiers force a recently captured IRA...</td>\n",
              "      <td>action|thriller|drama</td>\n",
              "      <td></td>\n",
              "      <td>6</td>\n",
              "    </tr>\n",
              "    <tr>\n",
              "      <th>32494</th>\n",
              "      <td>249260</td>\n",
              "      <td>tt2622826</td>\n",
              "      <td>NaN</td>\n",
              "      <td>NaT</td>\n",
              "      <td>NaN</td>\n",
              "      <td>A group of skiers are terrorized during spring...</td>\n",
              "      <td>tv movie|action|horror|science fiction</td>\n",
              "      <td></td>\n",
              "      <td>10</td>\n",
              "    </tr>\n",
              "  </tbody>\n",
              "</table>\n",
              "</div>"
            ],
            "text/plain": [
              "       tmdb_id    imdb_id  ... keywords cluster\n",
              "22048    82663  tt0113002  ...                6\n",
              "32494   249260  tt2622826  ...               10\n",
              "\n",
              "[2 rows x 9 columns]"
            ]
          },
          "metadata": {
            "tags": []
          },
          "execution_count": 134
        }
      ]
    },
    {
      "cell_type": "code",
      "metadata": {
        "id": "Jbd0gS6KYDfM"
      },
      "source": [
        "merged.at[22048, 'title'] = 'Midnight Man'\n",
        "merged.at[32494, 'title'] = 'Avalanche Sharks'"
      ],
      "execution_count": null,
      "outputs": []
    },
    {
      "cell_type": "code",
      "metadata": {
        "colab": {
          "base_uri": "https://localhost:8080/"
        },
        "id": "u-cE3vqFWh9T",
        "outputId": "b1a9b7d5-513a-436c-a6df-51130a3500e2"
      },
      "source": [
        "merged.info()"
      ],
      "execution_count": null,
      "outputs": [
        {
          "output_type": "stream",
          "text": [
            "<class 'pandas.core.frame.DataFrame'>\n",
            "RangeIndex: 43911 entries, 0 to 43910\n",
            "Data columns (total 9 columns):\n",
            " #   Column        Non-Null Count  Dtype         \n",
            "---  ------        --------------  -----         \n",
            " 0   tmdb_id       43911 non-null  int64         \n",
            " 1   imdb_id       43896 non-null  object        \n",
            " 2   title         43911 non-null  object        \n",
            " 3   release_date  43844 non-null  datetime64[ns]\n",
            " 4   score         43909 non-null  float64       \n",
            " 5   overview      43911 non-null  object        \n",
            " 6   genres        43911 non-null  object        \n",
            " 7   keywords      43911 non-null  object        \n",
            " 8   cluster       43911 non-null  int64         \n",
            "dtypes: datetime64[ns](1), float64(1), int64(2), object(5)\n",
            "memory usage: 3.0+ MB\n"
          ],
          "name": "stdout"
        }
      ]
    },
    {
      "cell_type": "code",
      "metadata": {
        "id": "QodMbxEui1Ru",
        "colab": {
          "base_uri": "https://localhost:8080/"
        },
        "outputId": "0e566a9c-e535-4d21-fc25-67f5550e7c3b"
      },
      "source": [
        "merged['cluster'].value_counts()"
      ],
      "execution_count": null,
      "outputs": [
        {
          "output_type": "execute_result",
          "data": {
            "text/plain": [
              "12    4364\n",
              "1     4177\n",
              "13    4130\n",
              "4     3833\n",
              "6     3330\n",
              "0     3281\n",
              "11    2922\n",
              "8     2911\n",
              "2     2712\n",
              "3     2637\n",
              "9     2572\n",
              "7     2551\n",
              "10    2412\n",
              "5     2079\n",
              "Name: cluster, dtype: int64"
            ]
          },
          "metadata": {
            "tags": []
          },
          "execution_count": 151
        }
      ]
    },
    {
      "cell_type": "code",
      "metadata": {
        "id": "WXSREbkaelAB"
      },
      "source": [
        "merged = merged.reset_index(drop=True)"
      ],
      "execution_count": null,
      "outputs": []
    },
    {
      "cell_type": "code",
      "metadata": {
        "id": "xOa7W8EnZON6"
      },
      "source": [
        "merged.to_csv('movies.csv')"
      ],
      "execution_count": null,
      "outputs": []
    }
  ]
}