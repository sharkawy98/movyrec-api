{
  "nbformat": 4,
  "nbformat_minor": 0,
  "metadata": {
    "colab": {
      "name": "recommendations part.ipynb",
      "provenance": [],
      "collapsed_sections": []
    },
    "kernelspec": {
      "name": "python3",
      "display_name": "Python 3"
    },
    "language_info": {
      "name": "python"
    }
  },
  "cells": [
    {
      "cell_type": "code",
      "metadata": {
        "id": "DGj-M9rEBHko"
      },
      "source": [
        "import pandas as pd"
      ],
      "execution_count": 12,
      "outputs": []
    },
    {
      "cell_type": "code",
      "metadata": {
        "id": "EVREbqr4VDz1"
      },
      "source": [
        "# ratings from user (will be provided from the database of the app)\n",
        "ratings = [{'movie_id':207, 'cluster':0, 'rating':4}, {'movie_id':637,'cluster':6,'rating':3}]"
      ],
      "execution_count": 39,
      "outputs": []
    },
    {
      "cell_type": "code",
      "metadata": {
        "id": "iZIJXqa7Hh7v"
      },
      "source": [
        "from sklearn.feature_extraction.text import TfidfVectorizer\n",
        "from sklearn.metrics.pairwise import cosine_similarity"
      ],
      "execution_count": 15,
      "outputs": []
    },
    {
      "cell_type": "code",
      "metadata": {
        "id": "TQMAaL-njdZQ"
      },
      "source": [
        "def load_cluster_movies(cluster):\n",
        "  cluster_movies = movies.loc[movies['cluster'] == cluster] \n",
        "  cluster_movies = cluster_movies.reset_index(drop=True)\n",
        "  return cluster_movies\n",
        "\n",
        "def get_similarities(data):\n",
        "  tfidf = TfidfVectorizer(\n",
        "    min_df=2,\n",
        "    max_df=0.7,\n",
        "    ngram_range=(1,3), \n",
        "    stop_words='english'\n",
        "  )\n",
        "  tfidf_matrix = tfidf.fit_transform(data['overview'])\n",
        "  cosine_sim = cosine_similarity(tfidf_matrix, tfidf_matrix)\n",
        "  return cosine_sim\n",
        "\n",
        "def get_movie_recommendations(movie_id, data, similarities):\n",
        "  indices = pd.Series(data.index, index=data['tmdb_id'])\n",
        "\n",
        "  movie_idx = indices[movie_id]\n",
        "  sim_scores = list(enumerate(similarities[movie_idx]))\n",
        "  sim_scores = sorted(sim_scores, key=lambda x: x[1], reverse=True)\n",
        "  sim_scores = sim_scores[1:21]\n",
        "  recommendations_indices = [i[0] for i in sim_scores]\n",
        "    \n",
        "  return data.iloc[recommendations_indices]"
      ],
      "execution_count": 37,
      "outputs": []
    },
    {
      "cell_type": "code",
      "metadata": {
        "id": "FZkd2D_QlVz0"
      },
      "source": [
        "def get_user_recommendations(inputs):\n",
        "  '''Return the top 30 recommended movies'''\n",
        "  movies = pd.read_csv('/content/drive/MyDrive/movies.csv')\n",
        "  recommendations = pd.DataFrame()\n",
        "\n",
        "  for input in inputs:\n",
        "    if input['rating'] >= 3:\n",
        "      cluster_movies = load_cluster_movies(input['cluster'])\n",
        "      similarities = get_similarities(cluster_movies)\n",
        "\n",
        "      movie_id = input['movie_id']\n",
        "      if movie_id not in (cluster_movies['tmdb_id']).values:\n",
        "        continue\n",
        "      else:\n",
        "        recommendations = recommendations.append(\n",
        "            get_movie_recommendations(movie_id, cluster_movies, similarities)\n",
        "        )\n",
        "  recommendations = recommendations.drop_duplicates()\n",
        "  recommendations = recommendations.sort_values(by='score', ascending=False)    \n",
        "  return recommendations"
      ],
      "execution_count": 43,
      "outputs": []
    },
    {
      "cell_type": "code",
      "metadata": {
        "colab": {
          "base_uri": "https://localhost:8080/",
          "height": 608
        },
        "id": "xGVNswtarfaR",
        "outputId": "a229bb78-bf85-4a84-f264-6279dcfffa46"
      },
      "source": [
        "get_user_recommendations(ratings).head()"
      ],
      "execution_count": 50,
      "outputs": [
        {
          "output_type": "execute_result",
          "data": {
            "text/html": [
              "<div>\n",
              "<style scoped>\n",
              "    .dataframe tbody tr th:only-of-type {\n",
              "        vertical-align: middle;\n",
              "    }\n",
              "\n",
              "    .dataframe tbody tr th {\n",
              "        vertical-align: top;\n",
              "    }\n",
              "\n",
              "    .dataframe thead th {\n",
              "        text-align: right;\n",
              "    }\n",
              "</style>\n",
              "<table border=\"1\" class=\"dataframe\">\n",
              "  <thead>\n",
              "    <tr style=\"text-align: right;\">\n",
              "      <th></th>\n",
              "      <th>Unnamed: 0</th>\n",
              "      <th>tmdb_id</th>\n",
              "      <th>imdb_id</th>\n",
              "      <th>title</th>\n",
              "      <th>release_date</th>\n",
              "      <th>score</th>\n",
              "      <th>overview</th>\n",
              "      <th>genres</th>\n",
              "      <th>keywords</th>\n",
              "      <th>cluster</th>\n",
              "    </tr>\n",
              "  </thead>\n",
              "  <tbody>\n",
              "    <tr>\n",
              "      <th>57</th>\n",
              "      <td>18776</td>\n",
              "      <td>8290</td>\n",
              "      <td>tt0060474</td>\n",
              "      <td>Don't Look Now: We're Being Shot At</td>\n",
              "      <td>1966-12-07</td>\n",
              "      <td>6.902806</td>\n",
              "      <td>During World War II, two French civilians and ...</td>\n",
              "      <td>comedy|war</td>\n",
              "      <td>independent film</td>\n",
              "      <td>6</td>\n",
              "    </tr>\n",
              "    <tr>\n",
              "      <th>62</th>\n",
              "      <td>18781</td>\n",
              "      <td>304357</td>\n",
              "      <td>tt2404425</td>\n",
              "      <td>Woman in Gold</td>\n",
              "      <td>2015-04-10</td>\n",
              "      <td>6.855190</td>\n",
              "      <td>Maria Altmann, an octogenarian Jewish refugee,...</td>\n",
              "      <td>drama</td>\n",
              "      <td>NaN</td>\n",
              "      <td>6</td>\n",
              "    </tr>\n",
              "    <tr>\n",
              "      <th>78</th>\n",
              "      <td>78</td>\n",
              "      <td>7508</td>\n",
              "      <td>tt0986264</td>\n",
              "      <td>Taare Zameen Par</td>\n",
              "      <td>2007-12-21</td>\n",
              "      <td>6.750078</td>\n",
              "      <td>Ishaan Awasthi is an eight-year-old whose worl...</td>\n",
              "      <td>drama</td>\n",
              "      <td>japan|swordplay|treasure|samurai|sword|big fam...</td>\n",
              "      <td>0</td>\n",
              "    </tr>\n",
              "    <tr>\n",
              "      <th>135</th>\n",
              "      <td>135</td>\n",
              "      <td>9769</td>\n",
              "      <td>tt0119558</td>\n",
              "      <td>Lolita</td>\n",
              "      <td>1997-09-27</td>\n",
              "      <td>6.503790</td>\n",
              "      <td>Urbane professor Humbert Humbert marries a New...</td>\n",
              "      <td>drama|romance</td>\n",
              "      <td>berlin|neo-nazi|israel|nazi background|chauffe...</td>\n",
              "      <td>0</td>\n",
              "    </tr>\n",
              "    <tr>\n",
              "      <th>252</th>\n",
              "      <td>252</td>\n",
              "      <td>14794</td>\n",
              "      <td>tt0063850</td>\n",
              "      <td>If....</td>\n",
              "      <td>1968-12-19</td>\n",
              "      <td>6.152130</td>\n",
              "      <td>The film is a caustic portrait of a traditiona...</td>\n",
              "      <td>drama</td>\n",
              "      <td>NaN</td>\n",
              "      <td>0</td>\n",
              "    </tr>\n",
              "  </tbody>\n",
              "</table>\n",
              "</div>"
            ],
            "text/plain": [
              "     Unnamed: 0  ...  cluster\n",
              "57        18776  ...        6\n",
              "62        18781  ...        6\n",
              "78           78  ...        0\n",
              "135         135  ...        0\n",
              "252         252  ...        0\n",
              "\n",
              "[5 rows x 10 columns]"
            ]
          },
          "metadata": {
            "tags": []
          },
          "execution_count": 50
        }
      ]
    }
  ]
}